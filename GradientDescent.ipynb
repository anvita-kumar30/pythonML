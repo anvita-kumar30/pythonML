{
  "nbformat": 4,
  "nbformat_minor": 0,
  "metadata": {
    "colab": {
      "provenance": []
    },
    "kernelspec": {
      "name": "python3",
      "display_name": "Python 3"
    },
    "language_info": {
      "name": "python"
    }
  },
  "cells": [
    {
      "cell_type": "code",
      "execution_count": 5,
      "metadata": {
        "colab": {
          "base_uri": "https://localhost:8080/"
        },
        "id": "pqe9vhgAfNqb",
        "outputId": "d8542809-7ec3-4311-dba6-8a294a806ba4"
      },
      "outputs": [
        {
          "output_type": "stream",
          "name": "stdout",
          "text": [
            "Final x1: 0.3485932765528664, Final x2: 0.9940779541059878\n",
            "Final Predictions: [1.16837459 2.33674918 3.0080848  4.17645939]\n"
          ]
        }
      ],
      "source": [
        "import numpy as np\n",
        "class GradientDescentMSE:\n",
        "    def __init__(self, lr=0.01, n_iters=1000):\n",
        "        self.lr = lr\n",
        "        self.n_iters = n_iters\n",
        "        self.x1 = None\n",
        "        self.x2 = None\n",
        "\n",
        "    def fit(self, X, y):\n",
        "        # Initialize parameters\n",
        "        self.x1 = np.random.randn()  # Initialize x1\n",
        "        self.x2 = np.random.randn()  # Initialize x2\n",
        "\n",
        "        for _ in range(self.n_iters):\n",
        "            # Compute predictions\n",
        "            y_pred = self.x1 * X[:, 0] + self.x2 * X[:, 1]\n",
        "\n",
        "            # Compute gradients for MSE\n",
        "            grad_x1 = (2/len(y)) * np.sum((y_pred - y) * X[:, 0])\n",
        "            grad_x2 = (2/len(y)) * np.sum((y_pred - y) * X[:, 1])\n",
        "\n",
        "            # Update parameters\n",
        "            self.x1 = self.x1 - self.lr * grad_x1\n",
        "            self.x2 = self.x2 - self.lr * grad_x2\n",
        "\n",
        "        return self.x1, self.x2\n",
        "\n",
        "    def objective_function(self, X):\n",
        "        return self.x1 * X[:, 0] + self.x2 * X[:, 1]\n",
        "\n",
        "\n",
        "# Example dataset with two features\n",
        "X = np.array([[0.5, 1.0], [1.0, 2.0], [1.5, 2.5], [2.0, 3.5]])  # Features\n",
        "y = np.array([1.5, 2.5, 3.0, 4.0])  # True values\n",
        "\n",
        "# Initialize and run gradient descent\n",
        "gd_mse = GradientDescentMSE(lr=0.01, n_iters=1000)\n",
        "final_x1, final_x2 = gd_mse.fit(X, y)\n",
        "final_predictions = gd_mse.objective_function(X)\n",
        "\n",
        "print(f\"Final x1: {final_x1}, Final x2: {final_x2}\")\n",
        "print(f\"Final Predictions: {final_predictions}\")"
      ]
    }
  ]
}