{
  "nbformat": 4,
  "nbformat_minor": 0,
  "metadata": {
    "colab": {
      "provenance": []
    },
    "kernelspec": {
      "name": "python3",
      "display_name": "Python 3"
    },
    "language_info": {
      "name": "python"
    }
  },
  "cells": [
    {
      "cell_type": "code",
      "execution_count": 1,
      "metadata": {
        "colab": {
          "base_uri": "https://localhost:8080/"
        },
        "id": "gc-pOXjZXjof",
        "outputId": "9af01506-436d-48dc-83be-bc238f9afdc1"
      },
      "outputs": [
        {
          "output_type": "stream",
          "name": "stdout",
          "text": [
            "Original Data:\n",
            "   House_ID  Bedrooms  Size (sq ft)  Price (INR)      Location  Year_Built\n",
            "0         1       4.0         855.0   31356226.0          Juhu      2002.0\n",
            "1         2       5.0        1847.0   27775439.0       Andheri      2004.0\n",
            "2         3       NaN        2363.0   37325149.0        Bandra      2000.0\n",
            "3         4       5.0         626.0    6147116.0  South Mumbai      2002.0\n",
            "4         5       5.0           NaN   49899606.0         Worli         NaN\n"
          ]
        }
      ],
      "source": [
        "import pandas as pd\n",
        "data = pd.read_csv('house_data.csv')\n",
        "print(\"Original Data:\")\n",
        "print(data.head())"
      ]
    },
    {
      "cell_type": "code",
      "source": [
        " #Imputation\n",
        " #Handle missing values using median for numerical columns and the most frequent value for categorical columns.\n",
        " from sklearn.impute import SimpleImputer\n",
        " num_features = ['Bedrooms', 'Size (sq ft)', 'Price (INR)', 'Year_Built']\n",
        " cat_features = ['Location']\n",
        " num_imputer = SimpleImputer(strategy='median')\n",
        " data[num_features] = num_imputer.fit_transform(data[num_features])\n",
        " cat_imputer = SimpleImputer(strategy='most_frequent')\n",
        " data[cat_features] = cat_imputer.fit_transform(data[cat_features])\n",
        " print(\"\\nData After Imputation:\")\n",
        " print(data.head())"
      ],
      "metadata": {
        "colab": {
          "base_uri": "https://localhost:8080/"
        },
        "id": "Y_o9TIuHYRiI",
        "outputId": "6836d833-7092-426a-ddd7-bc86b7d85c71"
      },
      "execution_count": 2,
      "outputs": [
        {
          "output_type": "stream",
          "name": "stdout",
          "text": [
            "\n",
            "Data After Imputation:\n",
            "   House_ID  Bedrooms  Size (sq ft)  Price (INR)      Location  Year_Built\n",
            "0         1       4.0         855.0   31356226.0          Juhu      2002.0\n",
            "1         2       5.0        1847.0   27775439.0       Andheri      2004.0\n",
            "2         3       5.0        2363.0   37325149.0        Bandra      2000.0\n",
            "3         4       5.0         626.0    6147116.0  South Mumbai      2002.0\n",
            "4         5       5.0        1351.0   49899606.0         Worli      2002.0\n"
          ]
        }
      ]
    },
    {
      "cell_type": "code",
      "source": [
        " #Anomaly Detection\n",
        " #Detect anomalies in the dataset. Here, we use Z-scores to identify anomalies in the Price (INR) column.\n",
        " from scipy import stats\n",
        " z_scores = stats.zscore(data[num_features])\n",
        " data['Anomaly'] = (abs(z_scores) > 3).any(axis=1)  # Mark anomalies\n",
        " print(\"\\nData After Anomaly Detection:\")\n",
        " print(data.head())"
      ],
      "metadata": {
        "colab": {
          "base_uri": "https://localhost:8080/"
        },
        "id": "vbj0tOjjcXyz",
        "outputId": "8a8062fd-f588-4dc9-d3ad-bdf0550a04a0"
      },
      "execution_count": 4,
      "outputs": [
        {
          "output_type": "stream",
          "name": "stdout",
          "text": [
            "\n",
            "Data After Anomaly Detection:\n",
            "   House_ID  Bedrooms  Size (sq ft)  Price (INR)      Location  Year_Built  \\\n",
            "0         1       4.0         855.0   31356226.0          Juhu      2002.0   \n",
            "1         2       5.0        1847.0   27775439.0       Andheri      2004.0   \n",
            "2         3       5.0        2363.0   37325149.0        Bandra      2000.0   \n",
            "3         4       5.0         626.0    6147116.0  South Mumbai      2002.0   \n",
            "4         5       5.0        1351.0   49899606.0         Worli      2002.0   \n",
            "\n",
            "   Anomaly  \n",
            "0    False  \n",
            "1    False  \n",
            "2    False  \n",
            "3    False  \n",
            "4    False  \n"
          ]
        }
      ]
    },
    {
      "cell_type": "code",
      "source": [
        "# Rule-Based Anomaly Detection\n",
        "# Simple rules where:\n",
        "# A house with less than 1000 sq ft should have 1 to 2 bedrooms.\n",
        "# A house with 1000-2000 sq ft should have 2 to 4 bedrooms.\n",
        "# A house with more than 2000 sq ft should have 3 or more bedrooms.\n",
        "def is_bedroom_size_reasonable(row):\n",
        "    if row['Size (sq ft)'] < 1000:\n",
        "        return 1 <= row['Bedrooms'] <= 2\n",
        "    elif row['Size (sq ft)'] <= 2000:\n",
        "        return 2 <= row['Bedrooms'] <= 4\n",
        "    else:\n",
        "        return row['Bedrooms'] >= 3\n",
        "\n",
        "data['Bed_Size_Anomaly'] = ~data.apply(is_bedroom_size_reasonable, axis=1)\n",
        "print(\"\\nData After Rule-Based Anomaly Detection:\")\n",
        "print(data.head())"
      ],
      "metadata": {
        "colab": {
          "base_uri": "https://localhost:8080/"
        },
        "id": "tm9vfoIucf24",
        "outputId": "14a8cb06-457b-4733-d7da-b8c365f03509"
      },
      "execution_count": 6,
      "outputs": [
        {
          "output_type": "stream",
          "name": "stdout",
          "text": [
            "\n",
            "Data After Rule-Based Anomaly Detection:\n",
            "   House_ID  Bedrooms  Size (sq ft)  Price (INR)      Location  Year_Built  \\\n",
            "0         1       4.0         855.0   31356226.0          Juhu      2002.0   \n",
            "1         2       5.0        1847.0   27775439.0       Andheri      2004.0   \n",
            "2         3       5.0        2363.0   37325149.0        Bandra      2000.0   \n",
            "3         4       5.0         626.0    6147116.0  South Mumbai      2002.0   \n",
            "4         5       5.0        1351.0   49899606.0         Worli      2002.0   \n",
            "\n",
            "   Anomaly  Bed_Size_Anomaly  \n",
            "0    False              True  \n",
            "1    False              True  \n",
            "2    False             False  \n",
            "3    False              True  \n",
            "4    False              True  \n"
          ]
        }
      ]
    },
    {
      "cell_type": "code",
      "source": [
        " #Standardization\n",
        " #Standardize numerical features so they have a mean of 0 and a standard deviation of 1.\n",
        " from sklearn.preprocessing import StandardScaler\n",
        " # Standardize numericals\n",
        " scaler = StandardScaler()\n",
        " data[num_features] = scaler.fit_transform(data[num_features])\n",
        " print(\"\\nData After Standardization:\")\n",
        " print(data.head())"
      ],
      "metadata": {
        "colab": {
          "base_uri": "https://localhost:8080/"
        },
        "id": "_xOppy8Pc4Ed",
        "outputId": "586f61cd-d8c5-4636-bd3d-3b135e7de02d"
      },
      "execution_count": 7,
      "outputs": [
        {
          "output_type": "stream",
          "name": "stdout",
          "text": [
            "\n",
            "Data After Standardization:\n",
            "   House_ID  Bedrooms  Size (sq ft)  Price (INR)      Location  Year_Built  \\\n",
            "0         1      -2.0     -0.869514     0.059777          Juhu    0.000000   \n",
            "1         2       0.5      0.689138    -0.190420       Andheri    1.581139   \n",
            "2         3       0.5      1.499888     0.476838        Bandra   -1.581139   \n",
            "3         4       0.5     -1.229324    -1.701637  South Mumbai    0.000000   \n",
            "4         5       0.5     -0.090188     1.355442         Worli    0.000000   \n",
            "\n",
            "   Anomaly  Bed_Size_Anomaly  \n",
            "0    False              True  \n",
            "1    False              True  \n",
            "2    False             False  \n",
            "3    False              True  \n",
            "4    False              True  \n"
          ]
        }
      ]
    },
    {
      "cell_type": "code",
      "source": [
        " #Normalization\n",
        " #Normalize numerical features to fit within the range [0, 1]\n",
        " from sklearn.preprocessing import MinMaxScaler\n",
        "\n",
        " normalizer = MinMaxScaler()\n",
        " data[num_features] = normalizer.fit_transform(data[num_features])\n",
        " print(\"\\nData After Normalization:\")\n",
        " print(data.head())"
      ],
      "metadata": {
        "colab": {
          "base_uri": "https://localhost:8080/"
        },
        "id": "ry3nHXPgc9sm",
        "outputId": "5c3bc497-2c72-48ab-abb7-8bfde5ae7f4a"
      },
      "execution_count": 8,
      "outputs": [
        {
          "output_type": "stream",
          "name": "stdout",
          "text": [
            "\n",
            "Data After Normalization:\n",
            "   House_ID  Bedrooms  Size (sq ft)  Price (INR)      Location  Year_Built  \\\n",
            "0         1       0.0      0.131836     0.576175          Juhu         0.5   \n",
            "1         2       1.0      0.702936     0.494334       Andheri         1.0   \n",
            "2         3       1.0      1.000000     0.712600        Bandra         0.0   \n",
            "3         4       1.0      0.000000     0.000000  South Mumbai         0.5   \n",
            "4         5       1.0      0.417386     1.000000         Worli         0.5   \n",
            "\n",
            "   Anomaly  Bed_Size_Anomaly  \n",
            "0    False              True  \n",
            "1    False              True  \n",
            "2    False             False  \n",
            "3    False              True  \n",
            "4    False              True  \n"
          ]
        }
      ]
    },
    {
      "cell_type": "code",
      "source": [
        " #Encoding\n",
        " #One-Hot Encode the categorical feature Location.\n",
        " from sklearn.preprocessing import OneHotEncoder\n",
        " # One-Hot Encoding for 'Location'\n",
        " encoder = OneHotEncoder(sparse=False)\n",
        " encoded_location = encoder.fit_transform(data[['Location']])\n",
        " encoded_df = pd.DataFrame(encoded_location, columns=encoder.get_feature_names_out(['Location']))\n",
        "\n",
        " data_encoded = pd.concat([data, encoded_df], axis=1).drop('Location', axis=1)\n",
        "\n",
        " print(\"\\nData After Encoding:\")\n",
        " print(data_encoded.head())"
      ],
      "metadata": {
        "colab": {
          "base_uri": "https://localhost:8080/"
        },
        "id": "kXhZXBcudD_i",
        "outputId": "75759af4-7f8b-4506-8f44-b1307f45c966"
      },
      "execution_count": 9,
      "outputs": [
        {
          "output_type": "stream",
          "name": "stdout",
          "text": [
            "\n",
            "Data After Encoding:\n",
            "   House_ID  Bedrooms  Size (sq ft)  Price (INR)  Year_Built  Anomaly  \\\n",
            "0         1       0.0      0.131836     0.576175         0.5    False   \n",
            "1         2       1.0      0.702936     0.494334         1.0    False   \n",
            "2         3       1.0      1.000000     0.712600         0.0    False   \n",
            "3         4       1.0      0.000000     0.000000         0.5    False   \n",
            "4         5       1.0      0.417386     1.000000         0.5    False   \n",
            "\n",
            "   Bed_Size_Anomaly  Location_Andheri  Location_Bandra  Location_Juhu  \\\n",
            "0              True               0.0              0.0            1.0   \n",
            "1              True               1.0              0.0            0.0   \n",
            "2             False               0.0              1.0            0.0   \n",
            "3              True               0.0              0.0            0.0   \n",
            "4              True               0.0              0.0            0.0   \n",
            "\n",
            "   Location_South Mumbai  Location_Worli  \n",
            "0                    0.0             0.0  \n",
            "1                    0.0             0.0  \n",
            "2                    0.0             0.0  \n",
            "3                    1.0             0.0  \n",
            "4                    0.0             1.0  \n"
          ]
        },
        {
          "output_type": "stream",
          "name": "stderr",
          "text": [
            "/usr/local/lib/python3.10/dist-packages/sklearn/preprocessing/_encoders.py:975: FutureWarning: `sparse` was renamed to `sparse_output` in version 1.2 and will be removed in 1.4. `sparse_output` is ignored unless you leave `sparse` to its default value.\n",
            "  warnings.warn(\n"
          ]
        }
      ]
    }
  ]
}