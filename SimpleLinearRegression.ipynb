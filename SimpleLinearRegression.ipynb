{
  "nbformat": 4,
  "nbformat_minor": 0,
  "metadata": {
    "colab": {
      "provenance": [],
      "authorship_tag": "ABX9TyN0oP2QGqLYLGx1yM9/1Ygr",
      "include_colab_link": true
    },
    "kernelspec": {
      "name": "python3",
      "display_name": "Python 3"
    },
    "language_info": {
      "name": "python"
    }
  },
  "cells": [
    {
      "cell_type": "markdown",
      "metadata": {
        "id": "view-in-github",
        "colab_type": "text"
      },
      "source": [
        "<a href=\"https://colab.research.google.com/github/anvita-kumar30/pythonML/blob/master/SimpleLinearRegression.ipynb\" target=\"_parent\"><img src=\"https://colab.research.google.com/assets/colab-badge.svg\" alt=\"Open In Colab\"/></a>"
      ]
    },
    {
      "cell_type": "code",
      "execution_count": 7,
      "metadata": {
        "colab": {
          "base_uri": "https://localhost:8080/"
        },
        "id": "xMMdjzHWqzuV",
        "outputId": "f26aea98-95db-47f5-ab93-1da1cf011a1d"
      },
      "outputs": [
        {
          "output_type": "stream",
          "name": "stdout",
          "text": [
            "   Height  Weight\n",
            "0     151      63\n",
            "1     174      81\n",
            "2     138      56\n",
            "3     186      91\n",
            "4     128      47\n",
            "5     136      57\n",
            "6     179      76\n",
            "7     163      72\n",
            "8     152      62\n",
            "9     131      48\n"
          ]
        }
      ],
      "source": [
        "# SIMPLE LINEAR REGRESSION\n",
        "\n",
        "import pandas as pd\n",
        "import numpy as np\n",
        "file_path = 'h_w.csv'\n",
        "data = pd.read_csv(file_path)\n",
        "#display data\n",
        "print(data)"
      ]
    },
    {
      "cell_type": "code",
      "source": [
        "#mean of X (Height) and Y (Weight)\n",
        "x_mean = np.mean(data['Height'])\n",
        "y_mean = np.mean(data['Weight'])\n",
        "\n",
        "#Display\n",
        "print(f\"Mean of Height (x_mean): {x_mean}\")\n",
        "print(f\"Mean of Weight (y_mean): {y_mean}\")"
      ],
      "metadata": {
        "colab": {
          "base_uri": "https://localhost:8080/"
        },
        "id": "AWkrVc8HuzpL",
        "outputId": "23b5ab23-f0ac-4589-aeb4-92b0af6deffc"
      },
      "execution_count": 8,
      "outputs": [
        {
          "output_type": "stream",
          "name": "stdout",
          "text": [
            "Mean of Height (x_mean): 153.8\n",
            "Mean of Weight (y_mean): 65.3\n"
          ]
        }
      ]
    },
    {
      "cell_type": "code",
      "source": [
        "# Calculate xi - x_bar and yi - y_bar\n",
        "data['xi-xbar'] = data['Height'] - x_mean\n",
        "data['yi-ybar'] = data['Weight'] - y_mean\n",
        "\n",
        "#Display xi - x_bar and yi - y_bar\n",
        "print(data[['Height', 'Weight', 'xi-xbar', 'yi-ybar']])"
      ],
      "metadata": {
        "colab": {
          "base_uri": "https://localhost:8080/"
        },
        "id": "tq_dHtyau5I6",
        "outputId": "a6de50f8-fe8b-4e74-d730-aefcd70f9c7e"
      },
      "execution_count": 9,
      "outputs": [
        {
          "output_type": "stream",
          "name": "stdout",
          "text": [
            "   Height  Weight  xi-xbar  yi-ybar\n",
            "0     151      63     -2.8     -2.3\n",
            "1     174      81     20.2     15.7\n",
            "2     138      56    -15.8     -9.3\n",
            "3     186      91     32.2     25.7\n",
            "4     128      47    -25.8    -18.3\n",
            "5     136      57    -17.8     -8.3\n",
            "6     179      76     25.2     10.7\n",
            "7     163      72      9.2      6.7\n",
            "8     152      62     -1.8     -3.3\n",
            "9     131      48    -22.8    -17.3\n"
          ]
        }
      ]
    },
    {
      "cell_type": "code",
      "source": [
        "# Calculate product of (xi - x_bar) and (yi - y_bar)\n",
        "data['(xi-xbar)*(yi-ybar)'] = data['xi-xbar'] * data['yi-ybar']\n",
        "\n",
        "# Display product of (xi - x_bar) and (yi - y_bar)\n",
        "print(data[['Height', 'Weight', 'xi-xbar', 'yi-ybar', '(xi-xbar)*(yi-ybar)']])"
      ],
      "metadata": {
        "colab": {
          "base_uri": "https://localhost:8080/"
        },
        "id": "rM-ePHXOu9P4",
        "outputId": "1a6cd63e-eac1-4c43-e001-56360ea88fcc"
      },
      "execution_count": 10,
      "outputs": [
        {
          "output_type": "stream",
          "name": "stdout",
          "text": [
            "   Height  Weight  xi-xbar  yi-ybar  (xi-xbar)*(yi-ybar)\n",
            "0     151      63     -2.8     -2.3                 6.44\n",
            "1     174      81     20.2     15.7               317.14\n",
            "2     138      56    -15.8     -9.3               146.94\n",
            "3     186      91     32.2     25.7               827.54\n",
            "4     128      47    -25.8    -18.3               472.14\n",
            "5     136      57    -17.8     -8.3               147.74\n",
            "6     179      76     25.2     10.7               269.64\n",
            "7     163      72      9.2      6.7                61.64\n",
            "8     152      62     -1.8     -3.3                 5.94\n",
            "9     131      48    -22.8    -17.3               394.44\n"
          ]
        }
      ]
    },
    {
      "cell_type": "code",
      "source": [
        "# Calculate square of (xi - x_bar)\n",
        "data['sq(xi-xbar)'] = data['xi-xbar'] ** 2\n",
        "\n",
        "# Display square of (xi - x_bar)\n",
        "print(data[['Height', 'Weight', 'xi-xbar', 'yi-ybar', '(xi-xbar)*(yi-ybar)', 'sq(xi-xbar)']])"
      ],
      "metadata": {
        "colab": {
          "base_uri": "https://localhost:8080/"
        },
        "id": "56XshmpZvLQK",
        "outputId": "c1c39ec1-dd67-45cc-b273-ead5f5ad2e71"
      },
      "execution_count": 11,
      "outputs": [
        {
          "output_type": "stream",
          "name": "stdout",
          "text": [
            "   Height  Weight  xi-xbar  yi-ybar  (xi-xbar)*(yi-ybar)  sq(xi-xbar)\n",
            "0     151      63     -2.8     -2.3                 6.44         7.84\n",
            "1     174      81     20.2     15.7               317.14       408.04\n",
            "2     138      56    -15.8     -9.3               146.94       249.64\n",
            "3     186      91     32.2     25.7               827.54      1036.84\n",
            "4     128      47    -25.8    -18.3               472.14       665.64\n",
            "5     136      57    -17.8     -8.3               147.74       316.84\n",
            "6     179      76     25.2     10.7               269.64       635.04\n",
            "7     163      72      9.2      6.7                61.64        84.64\n",
            "8     152      62     -1.8     -3.3                 5.94         3.24\n",
            "9     131      48    -22.8    -17.3               394.44       519.84\n"
          ]
        }
      ]
    },
    {
      "cell_type": "code",
      "source": [
        "# Calculate sum of square of (xi - x_bar)\n",
        "sum_sq_xi_xbar = np.sum(data['sq(xi-xbar)'])\n",
        "\n",
        "# Display sum of square of (xi - x_bar)\n",
        "print(f\"Sum of square of (xi - x_bar): {sum_sq_xi_xbar}\")"
      ],
      "metadata": {
        "colab": {
          "base_uri": "https://localhost:8080/"
        },
        "id": "zFNuoMmwvP7K",
        "outputId": "cdc16cad-54c4-4362-e4c6-9da9f69a7a88"
      },
      "execution_count": 12,
      "outputs": [
        {
          "output_type": "stream",
          "name": "stdout",
          "text": [
            "Sum of square of (xi - x_bar): 3927.6000000000004\n"
          ]
        }
      ]
    },
    {
      "cell_type": "code",
      "source": [
        "# Calculate sum of (xi - x_bar) * (yi - y_bar)\n",
        "sum_xiyi_xbar_ybar = np.sum(data['(xi-xbar)*(yi-ybar)'])\n",
        "\n",
        "# Display sum of (xi - x_bar) * (yi - y_bar)\n",
        "print(f\"Sum of (xi - x_bar) * (yi - y_bar): {sum_xiyi_xbar_ybar}\")"
      ],
      "metadata": {
        "colab": {
          "base_uri": "https://localhost:8080/"
        },
        "id": "QT9_fw1JvTqR",
        "outputId": "c8ef4d33-b93e-4eac-a693-55dacc26381a"
      },
      "execution_count": 13,
      "outputs": [
        {
          "output_type": "stream",
          "name": "stdout",
          "text": [
            "Sum of (xi - x_bar) * (yi - y_bar): 2649.6\n"
          ]
        }
      ]
    },
    {
      "cell_type": "code",
      "source": [
        "# Calculate b1 (slope)\n",
        "b1 = sum_xiyi_xbar_ybar / sum_sq_xi_xbar\n",
        "\n",
        "# Display b1 (slope)\n",
        "print(f\"Slope (b1): {b1}\")"
      ],
      "metadata": {
        "colab": {
          "base_uri": "https://localhost:8080/"
        },
        "id": "P6NeHTUVvWxr",
        "outputId": "4342cf0f-6ab1-417d-9315-148f7adb7138"
      },
      "execution_count": 14,
      "outputs": [
        {
          "output_type": "stream",
          "name": "stdout",
          "text": [
            "Slope (b1): 0.6746104491292392\n"
          ]
        }
      ]
    },
    {
      "cell_type": "code",
      "source": [
        "# Calculate b0 (intercept)\n",
        "b0 = y_mean - b1 * x_mean\n",
        "\n",
        "# Display b0 (intercept)\n",
        "print(f\"Intercept (b0): {b0}\")"
      ],
      "metadata": {
        "colab": {
          "base_uri": "https://localhost:8080/"
        },
        "id": "mVJJ24EFvaOK",
        "outputId": "8b3f650b-3b74-481d-a200-28134f37c8a4"
      },
      "execution_count": 15,
      "outputs": [
        {
          "output_type": "stream",
          "name": "stdout",
          "text": [
            "Intercept (b0): -38.45508707607699\n"
          ]
        }
      ]
    },
    {
      "cell_type": "code",
      "source": [
        "# Define a function to predict weight from height\n",
        "def predict(height):\n",
        "    return b1 * height + b0\n",
        "# Example prediction\n",
        "height_new = 160\n",
        "weight_prediction = predict(height_new)\n",
        "print(f'Predicted weight for height {height_new} cm is {weight_prediction:.2f} kg')"
      ],
      "metadata": {
        "colab": {
          "base_uri": "https://localhost:8080/"
        },
        "id": "TqH_sCTZvd_P",
        "outputId": "bf461ca8-5818-4d0c-dde2-fa9d6591dc88"
      },
      "execution_count": 16,
      "outputs": [
        {
          "output_type": "stream",
          "name": "stdout",
          "text": [
            "Predicted weight for height 160 cm is 69.48 kg\n"
          ]
        }
      ]
    }
  ]
}